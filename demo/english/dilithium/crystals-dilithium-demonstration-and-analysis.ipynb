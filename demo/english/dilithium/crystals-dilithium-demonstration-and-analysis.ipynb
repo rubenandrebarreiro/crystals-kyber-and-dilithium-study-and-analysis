{
 "cells": [
  {
   "cell_type": "code",
   "execution_count": 3,
   "id": "e74e5430",
   "metadata": {
    "kernel": "Java"
   },
   "outputs": [
    {
     "data": {
      "text/plain": [
       "null"
      ]
     },
     "execution_count": 3,
     "metadata": {},
     "output_type": "execute_result"
    }
   ],
   "source": [
    "// Empty comment just to initialize\n",
    "// Javalin rendering plugin from SOS Notebook."
   ]
  },
  {
   "cell_type": "code",
   "execution_count": 4,
   "id": "043ba04c",
   "metadata": {
    "kernel": "Java"
   },
   "outputs": [],
   "source": [
    "// Import of the JAR file for the basic resources of\n",
    "// the Bouncy Castle Crypto library (version 1.73) for Java.\n",
    "%classpath add jar ../../../etc/resources/jar/bcprov-jdk18on-173.jar"
   ]
  },
  {
   "cell_type": "code",
   "execution_count": 5,
   "id": "bf18c212",
   "metadata": {
    "kernel": "Java"
   },
   "outputs": [
    {
     "data": {
      "application/vnd.jupyter.widget-view+json": {
       "model_id": "7cf61925-93b9-4f14-b043-055e9ef847ab",
       "version_major": 2,
       "version_minor": 0
      },
      "method": "display_data"
     },
     "metadata": {},
     "output_type": "display_data"
    }
   ],
   "source": [
    "// Import of the JAR file for the extension resources of\n",
    "// the Bouncy Castle Crypto library (version 1.73) for Java.\n",
    "%classpath add jar ../../../etc/resources/jar/bcprov-ext-jdk18on-173.jar"
   ]
  },
  {
   "cell_type": "code",
   "execution_count": null,
   "id": "c1128170",
   "metadata": {
    "kernel": "Java"
   },
   "outputs": [],
   "source": [
    "// Import of all the required modules and sub-libraries.\n",
    "\n",
    "// Import of all the required modules and sub-libraries of\n",
    "// the Bouncy Castle library, for use of basic cryptography.\n",
    "import org.bouncycastle.crypto.AsymmetricCipherKeyPair;\n",
    "import org.bouncycastle.crypto.SecretWithEncapsulation;\n",
    "import org.bouncycastle.crypto.params.AsymmetricKeyParameter;\n",
    "\n",
    "// Import of all the required modules and sub-libraries of\n",
    "// the Bouncy Castle library, regarding the use of\n",
    "// Key Encapsulation Methods/Mechanisms (KEMs).\n",
    "import org.bouncycastle.jcajce.SecretKeyWithEncapsulation;\n",
    "import org.bouncycastle.jcajce.spec.KEMExtractSpec;\n",
    "import org.bouncycastle.jcajce.spec.KEMGenerateSpec;\n",
    "\n",
    "// Import of all the required modules and sub-libraries of\n",
    "// the Bouncy Castle library, regarding the provider of\n",
    "// (Classical) Post-Quantum Cryptography.\n",
    "import org.bouncycastle.pqc.jcajce.provider.BouncyCastlePQCProvider;\n",
    "\n",
    "// Import of all the required modules and sub-libraries of\n",
    "// the Bouncy Castle library, regarding the CRYSTALS-Dilithium\n",
    "// Public-Key Cryptosystem's Parameter Specifications.\n",
    "import org.bouncycastle.pqc.jcajce.spec.DilithiumParameterSpec;\n",
    "\n",
    "// Import of all the required modules and sub-libraries required of\n",
    "// the Bouncy Castle library, regarding the CRYSTALS-Dilithium Cryptosystem.\n",
    "import org.bouncycastle.pqc.crypto.crystals.dilithium.DilithiumParameters;\n",
    "import org.bouncycastle.pqc.crypto.crystals.dilithium.DilithiumKeyGenerationParameters;\n",
    "import org.bouncycastle.pqc.crypto.crystals.dilithium.DilithiumKeyPairGenerator;\n",
    "import org.bouncycastle.pqc.crypto.crystals.dilithium.DilithiumPrivateKeyParameters;\n",
    "import org.bouncycastle.pqc.crypto.crystals.dilithium.DilithiumPublicKeyParameters;\n",
    "\n",
    "// Import of all the required modules and sub-libraries\n",
    "// required of the built-in security module of Java.\n",
    "import java.security.PrivateKey;\n",
    "import java.security.PublicKey;\n",
    "import java.security.SecureRandom;\n",
    "import java.security.Security;\n",
    "\n",
    "// Import of all the required modules and sub-libraries\n",
    "// required of the built-in Non-blocking Input/Output module of Java.\n",
    "import java.nio.ByteBuffer;\n",
    "import java.nio.ByteOrder;\n",
    "\n",
    "\n",
    "// Definition of all the required constant values.\n",
    "\n",
    "// Definition of the size of a byte\n",
    "// with the respective number of bits.\n",
    "final short BYTE_SIZE_IN_BITS = 8;\n",
    "\n",
    "// Definition of the number of possible\n",
    "// binary digits (bits) for a hexadecimal character.\n",
    "final short NUM_POSSIBLE_BITS_IN_HEXADECIMAL_CHAR = 16;\n",
    "\n",
    "\n",
    "\n",
    "// Definition of all the required classes.\n",
    "\n",
    "// Definition of the class of the cryptographic engine's parameters for\n",
    "// the Public-Key (Asymmetric) Digital Signature Scheme CRYSTALS-Dilithium\n",
    "// (CRYptographic SuiTe for Algebraic LatticeS - Dilithium),\n",
    "// which is a (Classical) Post-Quantum Digital Signature Scheme\n",
    "// (supposed to be secure against classical and quantum attacks),\n",
    "// and based on computational hardness of mathematical problems\n",
    "// derived from the well-known lattices algebraic structures,\n",
    "// most specifically, in the LWE (Learning With Errors) Problem.\n",
    "class DilithiumEngineParams {\n",
    "    \n",
    "    // Definition of all the required constant values,\n",
    "    // regarding the class of the cryptographic engine's\n",
    "    // parameters for the CRYSTALS-Dilithium\n",
    "    // Public-Key Digital Signature Scheme.\n",
    "    \n",
    "    // Definition of the maximum degree n of\n",
    "    // the polynomials used in the matrix A\n",
    "    // representing the lattice algebraic structure\n",
    "    // to be adopted for the CRYSTALS-Dilithium\n",
    "    // Public-Key Digital Signature Scheme.\n",
    "    public final static int param_n = 256;\n",
    "    \n",
    "    // Definition of the numeric modulus q for\n",
    "    // the polynomials used in the matrix A\n",
    "    // representing the lattice algebraic structure\n",
    "    // to be adopted for the CRYSTALS-Dilithium\n",
    "    // Public-Key Digital Signature Scheme.\n",
    "    public final static int param_q = 8380417;\n",
    "    \n",
    "    // Definition of the numeric inverse of modulus q\n",
    "    // for the polynomials used in the matrix A\n",
    "    // representing the lattice algebraic structure\n",
    "    // to be adopted for the CRYSTALS-Dilithium\n",
    "    // Public-Key Digital Signature Scheme.\n",
    "    public final static int param_q_inv = 58728449;\n",
    "    \n",
    "    // Definition of the compression factor d to\n",
    "    // reduce/compress the size (dropped bits) of\n",
    "    // the asymmetric keys to be used by\n",
    "    // the CRYSTALS-Dilithium Public-Key\n",
    "    // Digital Signature Scheme.\n",
    "    public final static int compression_asymmetric_keys_factor_d = 13;\n",
    "    \n",
    "    // Definition of the number of bytes\n",
    "    // to be used as pseudo-random seed of\n",
    "    // the CRYSTALS-Dilithium Public-Key\n",
    "    // Digital Signature Scheme.\n",
    "    public final static int num_pseudo_random_seed_bytes = 32;\n",
    "    \n",
    "    // Definition of the number of\n",
    "    // bytes to be used for the purpose of\n",
    "    // the CRH (Colision-Resistant Hashing) of\n",
    "    // the CRYSTALS-Dilithium Public-Key\n",
    "    // Digital Signature Scheme.\n",
    "    public final static int num_collision_resistance_hashing_bytes = 64;\n",
    "    \n",
    "    // Definition of the number of\n",
    "    // bytes to be used for the purpose of\n",
    "    // the cryptographic randomness of\n",
    "    // the CRYSTALS-Dilithium Public-Key\n",
    "    // Digital Signature Scheme.\n",
    "    public final static int num_pseudo_random_bytes = 32;\n",
    "    \n",
    "    // Definition of the number of bytes\n",
    "    // to be used for the computation of\n",
    "    // the final polynomial target result\n",
    "    // vector/array of the CRYSTALS-Dilithium\n",
    "    // Public-Key Digital Signature Scheme.\n",
    "    public final static int num_final_polynomial_target_result_bytes = 64;\n",
    "    \n",
    "    // \n",
    "    public final static int num_packed_polynomial_target_t0_bytes = 416;\n",
    "    \n",
    "    //\n",
    "    public final static int num_packed_polynomial_target_t1_bytes = 320;\n",
    "    \n",
    "\n",
    "}"
   ]
  }
 ],
 "metadata": {
  "kernelspec": {
   "display_name": "SoS",
   "language": "sos",
   "name": "sos"
  },
  "language_info": {
   "codemirror_mode": "sos",
   "file_extension": ".sos",
   "mimetype": "text/x-sos",
   "name": "sos",
   "nbconvert_exporter": "sos_notebook.converter.SoS_Exporter",
   "pygments_lexer": "sos"
  },
  "sos": {
   "kernels": [
    [
     "Java",
     "java",
     "java",
     "",
     ""
    ]
   ],
   "panel": {
    "displayed": false,
    "height": 0
   },
   "version": "0.24.0"
  }
 },
 "nbformat": 4,
 "nbformat_minor": 5
}
